{
 "cells": [
  {
   "cell_type": "code",
   "execution_count": 48,
   "id": "da6c14d8",
   "metadata": {},
   "outputs": [
    {
     "name": "stdout",
     "output_type": "stream",
     "text": [
      "2.0.3\n"
     ]
    }
   ],
   "source": [
    "import pandas as pd \n",
    "import numpy as np\n",
    "print(pd.__version__)"
   ]
  },
  {
   "cell_type": "code",
   "execution_count": 85,
   "id": "9c9bbba6",
   "metadata": {},
   "outputs": [],
   "source": [
    "pd.options.display.max_columns = None"
   ]
  },
  {
   "cell_type": "code",
   "execution_count": 253,
   "id": "b8d4d83b",
   "metadata": {},
   "outputs": [],
   "source": [
    "df = pd.read_csv(\"./../dataset/data1.csv\")"
   ]
  },
  {
   "cell_type": "code",
   "execution_count": 254,
   "id": "cd70c7d3",
   "metadata": {},
   "outputs": [
    {
     "data": {
      "text/html": [
       "<div>\n",
       "<style scoped>\n",
       "    .dataframe tbody tr th:only-of-type {\n",
       "        vertical-align: middle;\n",
       "    }\n",
       "\n",
       "    .dataframe tbody tr th {\n",
       "        vertical-align: top;\n",
       "    }\n",
       "\n",
       "    .dataframe thead th {\n",
       "        text-align: right;\n",
       "    }\n",
       "</style>\n",
       "<table border=\"1\" class=\"dataframe\">\n",
       "  <thead>\n",
       "    <tr style=\"text-align: right;\">\n",
       "      <th></th>\n",
       "      <th>Date</th>\n",
       "      <th>Season</th>\n",
       "      <th>Vụ nuôi</th>\n",
       "      <th>module_name</th>\n",
       "      <th>ao</th>\n",
       "      <th>Ngày thả</th>\n",
       "      <th>Time</th>\n",
       "      <th>Nhiệt độ</th>\n",
       "      <th>pH</th>\n",
       "      <th>Độ mặn</th>\n",
       "      <th>TDS</th>\n",
       "      <th>Độ đục</th>\n",
       "      <th>DO</th>\n",
       "      <th>Độ màu</th>\n",
       "      <th>Độ trong</th>\n",
       "      <th>Độ kiềm</th>\n",
       "      <th>Độ cứng</th>\n",
       "      <th>Amoni</th>\n",
       "      <th>Nitrat</th>\n",
       "      <th>Nitrit</th>\n",
       "      <th>Phosphate (PO43-)</th>\n",
       "      <th>Silica</th>\n",
       "      <th>Canxi</th>\n",
       "      <th>Kali</th>\n",
       "      <th>Magie</th>\n",
       "      <th>Nhiệt độ.1</th>\n",
       "      <th>pH.1</th>\n",
       "      <th>Độ mặn.1</th>\n",
       "      <th>TDS.1</th>\n",
       "      <th>Độ đục.1</th>\n",
       "      <th>DO.1</th>\n",
       "      <th>Độ màu.1</th>\n",
       "      <th>Độ trong.1</th>\n",
       "      <th>Độ kiềm.1</th>\n",
       "      <th>Độ cứng.1</th>\n",
       "      <th>Amoni.1</th>\n",
       "      <th>Nitrat.1</th>\n",
       "      <th>Nitrit.1</th>\n",
       "      <th>Phosphate (PO43-).1</th>\n",
       "      <th>Silica.1</th>\n",
       "      <th>Canxi.1</th>\n",
       "      <th>Kali.1</th>\n",
       "      <th>Magie.1</th>\n",
       "      <th>F1</th>\n",
       "      <th>F2</th>\n",
       "      <th>F3</th>\n",
       "      <th>F4</th>\n",
       "      <th>F5</th>\n",
       "      <th>WQI</th>\n",
       "      <th>Loại ao</th>\n",
       "      <th>Công nghệ nuôi</th>\n",
       "      <th>Giai doan</th>\n",
       "      <th>area</th>\n",
       "      <th>Giống tôm</th>\n",
       "      <th>Số lượng post</th>\n",
       "      <th>Tuổi tôm</th>\n",
       "      <th>Con/Kg</th>\n",
       "      <th>Mực nước</th>\n",
       "      <th>Thay nước (cm)</th>\n",
       "    </tr>\n",
       "  </thead>\n",
       "  <tbody>\n",
       "    <tr>\n",
       "      <th>0</th>\n",
       "      <td>21/6/2022</td>\n",
       "      <td>Rainy</td>\n",
       "      <td>Vụ 1-2022</td>\n",
       "      <td>A1</td>\n",
       "      <td>D3N6</td>\n",
       "      <td>69</td>\n",
       "      <td>8</td>\n",
       "      <td>29.53</td>\n",
       "      <td>7.33</td>\n",
       "      <td>21.53</td>\n",
       "      <td>21.77</td>\n",
       "      <td>39.48</td>\n",
       "      <td>4.54</td>\n",
       "      <td>273.0</td>\n",
       "      <td>19.0</td>\n",
       "      <td>130.0</td>\n",
       "      <td>3500.0</td>\n",
       "      <td>16.00</td>\n",
       "      <td>4.4</td>\n",
       "      <td>0.73</td>\n",
       "      <td>7.6</td>\n",
       "      <td>1.84</td>\n",
       "      <td>488.50</td>\n",
       "      <td>370.50</td>\n",
       "      <td>788.00</td>\n",
       "      <td>1.0</td>\n",
       "      <td>1.0</td>\n",
       "      <td>1.0</td>\n",
       "      <td>0.75</td>\n",
       "      <td>0.90</td>\n",
       "      <td>0.23</td>\n",
       "      <td>0.83</td>\n",
       "      <td>0.08</td>\n",
       "      <td>0.26</td>\n",
       "      <td>0.11</td>\n",
       "      <td>0.37</td>\n",
       "      <td>0.94</td>\n",
       "      <td>0.99</td>\n",
       "      <td>0.03</td>\n",
       "      <td>0.94</td>\n",
       "      <td>0.60</td>\n",
       "      <td>0.38</td>\n",
       "      <td>0.37</td>\n",
       "      <td>0.3708</td>\n",
       "      <td>0.1547</td>\n",
       "      <td>0.0538</td>\n",
       "      <td>0.0525</td>\n",
       "      <td>0.0090</td>\n",
       "      <td>0.64</td>\n",
       "      <td>Rectangle</td>\n",
       "      <td>Nuôi 1</td>\n",
       "      <td>NaN</td>\n",
       "      <td>1785.0</td>\n",
       "      <td>Vietuc</td>\n",
       "      <td>321750.0</td>\n",
       "      <td>78.00</td>\n",
       "      <td>55.00</td>\n",
       "      <td>75.0</td>\n",
       "      <td>0.0</td>\n",
       "    </tr>\n",
       "    <tr>\n",
       "      <th>1</th>\n",
       "      <td>20/6/2022</td>\n",
       "      <td>Rainy</td>\n",
       "      <td>Vụ 1-2022</td>\n",
       "      <td>A1</td>\n",
       "      <td>D3N6</td>\n",
       "      <td>68</td>\n",
       "      <td>8</td>\n",
       "      <td>29.65</td>\n",
       "      <td>7.40</td>\n",
       "      <td>21.34</td>\n",
       "      <td>21.77</td>\n",
       "      <td>38.12</td>\n",
       "      <td>5.02</td>\n",
       "      <td>435.0</td>\n",
       "      <td>19.0</td>\n",
       "      <td>119.0</td>\n",
       "      <td>3500.0</td>\n",
       "      <td>9.15</td>\n",
       "      <td>0.0</td>\n",
       "      <td>0.60</td>\n",
       "      <td>2.7</td>\n",
       "      <td>1.84</td>\n",
       "      <td>328.50</td>\n",
       "      <td>285.50</td>\n",
       "      <td>1017.25</td>\n",
       "      <td>1.0</td>\n",
       "      <td>1.0</td>\n",
       "      <td>1.0</td>\n",
       "      <td>0.75</td>\n",
       "      <td>0.90</td>\n",
       "      <td>0.34</td>\n",
       "      <td>0.73</td>\n",
       "      <td>0.08</td>\n",
       "      <td>0.22</td>\n",
       "      <td>0.11</td>\n",
       "      <td>0.64</td>\n",
       "      <td>1.00</td>\n",
       "      <td>0.99</td>\n",
       "      <td>0.21</td>\n",
       "      <td>0.94</td>\n",
       "      <td>0.33</td>\n",
       "      <td>0.25</td>\n",
       "      <td>0.49</td>\n",
       "      <td>0.3726</td>\n",
       "      <td>0.1549</td>\n",
       "      <td>0.0423</td>\n",
       "      <td>0.0526</td>\n",
       "      <td>0.0192</td>\n",
       "      <td>0.64</td>\n",
       "      <td>Rectangle</td>\n",
       "      <td>Nuôi 1</td>\n",
       "      <td>NaN</td>\n",
       "      <td>1785.0</td>\n",
       "      <td>Vietuc</td>\n",
       "      <td>NaN</td>\n",
       "      <td>79.00</td>\n",
       "      <td>NaN</td>\n",
       "      <td>60.0</td>\n",
       "      <td>0.0</td>\n",
       "    </tr>\n",
       "    <tr>\n",
       "      <th>2</th>\n",
       "      <td>19/6/2022</td>\n",
       "      <td>Rainy</td>\n",
       "      <td>Vụ 1-2022</td>\n",
       "      <td>A1</td>\n",
       "      <td>D3N6</td>\n",
       "      <td>67</td>\n",
       "      <td>8</td>\n",
       "      <td>29.51</td>\n",
       "      <td>7.44</td>\n",
       "      <td>21.18</td>\n",
       "      <td>21.63</td>\n",
       "      <td>37.85</td>\n",
       "      <td>5.16</td>\n",
       "      <td>440.0</td>\n",
       "      <td>19.0</td>\n",
       "      <td>118.0</td>\n",
       "      <td>4000.0</td>\n",
       "      <td>8.36</td>\n",
       "      <td>0.0</td>\n",
       "      <td>0.51</td>\n",
       "      <td>5.1</td>\n",
       "      <td>2.28</td>\n",
       "      <td>508.75</td>\n",
       "      <td>371.50</td>\n",
       "      <td>901.00</td>\n",
       "      <td>1.0</td>\n",
       "      <td>1.0</td>\n",
       "      <td>1.0</td>\n",
       "      <td>0.75</td>\n",
       "      <td>0.90</td>\n",
       "      <td>0.37</td>\n",
       "      <td>0.72</td>\n",
       "      <td>0.08</td>\n",
       "      <td>0.22</td>\n",
       "      <td>0.21</td>\n",
       "      <td>0.67</td>\n",
       "      <td>1.00</td>\n",
       "      <td>0.99</td>\n",
       "      <td>0.05</td>\n",
       "      <td>0.93</td>\n",
       "      <td>0.64</td>\n",
       "      <td>0.38</td>\n",
       "      <td>0.43</td>\n",
       "      <td>0.3822</td>\n",
       "      <td>0.1554</td>\n",
       "      <td>0.0576</td>\n",
       "      <td>0.0526</td>\n",
       "      <td>0.0164</td>\n",
       "      <td>0.66</td>\n",
       "      <td>Rectangle</td>\n",
       "      <td>Nuôi 1</td>\n",
       "      <td>NaN</td>\n",
       "      <td>1785.0</td>\n",
       "      <td>Vietuc</td>\n",
       "      <td>NaN</td>\n",
       "      <td>76.00</td>\n",
       "      <td>NaN</td>\n",
       "      <td>61.0</td>\n",
       "      <td>0.0</td>\n",
       "    </tr>\n",
       "    <tr>\n",
       "      <th>3</th>\n",
       "      <td>18/6/2022</td>\n",
       "      <td>Rainy</td>\n",
       "      <td>Vụ 1-2022</td>\n",
       "      <td>A1</td>\n",
       "      <td>D3N6</td>\n",
       "      <td>66</td>\n",
       "      <td>8</td>\n",
       "      <td>30.51</td>\n",
       "      <td>7.50</td>\n",
       "      <td>21.54</td>\n",
       "      <td>21.95</td>\n",
       "      <td>29.13</td>\n",
       "      <td>5.21</td>\n",
       "      <td>468.0</td>\n",
       "      <td>19.0</td>\n",
       "      <td>115.0</td>\n",
       "      <td>4000.0</td>\n",
       "      <td>7.36</td>\n",
       "      <td>0.0</td>\n",
       "      <td>0.30</td>\n",
       "      <td>1.2</td>\n",
       "      <td>2.96</td>\n",
       "      <td>454.50</td>\n",
       "      <td>353.50</td>\n",
       "      <td>690.00</td>\n",
       "      <td>1.0</td>\n",
       "      <td>1.0</td>\n",
       "      <td>1.0</td>\n",
       "      <td>0.75</td>\n",
       "      <td>0.93</td>\n",
       "      <td>0.38</td>\n",
       "      <td>0.71</td>\n",
       "      <td>0.08</td>\n",
       "      <td>0.21</td>\n",
       "      <td>0.21</td>\n",
       "      <td>0.71</td>\n",
       "      <td>1.00</td>\n",
       "      <td>0.99</td>\n",
       "      <td>0.09</td>\n",
       "      <td>0.90</td>\n",
       "      <td>0.54</td>\n",
       "      <td>0.36</td>\n",
       "      <td>0.31</td>\n",
       "      <td>0.3812</td>\n",
       "      <td>0.1538</td>\n",
       "      <td>0.0483</td>\n",
       "      <td>0.0532</td>\n",
       "      <td>0.0182</td>\n",
       "      <td>0.65</td>\n",
       "      <td>Rectangle</td>\n",
       "      <td>Nuôi 1</td>\n",
       "      <td>NaN</td>\n",
       "      <td>1785.0</td>\n",
       "      <td>Vietuc</td>\n",
       "      <td>NaN</td>\n",
       "      <td>77.00</td>\n",
       "      <td>NaN</td>\n",
       "      <td>61.0</td>\n",
       "      <td>10.0</td>\n",
       "    </tr>\n",
       "    <tr>\n",
       "      <th>4</th>\n",
       "      <td>17/6/2022</td>\n",
       "      <td>Rainy</td>\n",
       "      <td>Vụ 1-2022</td>\n",
       "      <td>A1</td>\n",
       "      <td>D3N6</td>\n",
       "      <td>65</td>\n",
       "      <td>8</td>\n",
       "      <td>30.18</td>\n",
       "      <td>7.51</td>\n",
       "      <td>21.55</td>\n",
       "      <td>21.96</td>\n",
       "      <td>25.62</td>\n",
       "      <td>5.07</td>\n",
       "      <td>438.0</td>\n",
       "      <td>20.0</td>\n",
       "      <td>112.0</td>\n",
       "      <td>3500.0</td>\n",
       "      <td>8.80</td>\n",
       "      <td>1.0</td>\n",
       "      <td>0.45</td>\n",
       "      <td>8.4</td>\n",
       "      <td>9.10</td>\n",
       "      <td>458.75</td>\n",
       "      <td>329.75</td>\n",
       "      <td>806.00</td>\n",
       "      <td>1.0</td>\n",
       "      <td>1.0</td>\n",
       "      <td>1.0</td>\n",
       "      <td>0.75</td>\n",
       "      <td>0.94</td>\n",
       "      <td>0.35</td>\n",
       "      <td>0.73</td>\n",
       "      <td>0.10</td>\n",
       "      <td>0.20</td>\n",
       "      <td>0.11</td>\n",
       "      <td>0.65</td>\n",
       "      <td>0.99</td>\n",
       "      <td>0.99</td>\n",
       "      <td>0.05</td>\n",
       "      <td>0.67</td>\n",
       "      <td>0.55</td>\n",
       "      <td>0.32</td>\n",
       "      <td>0.38</td>\n",
       "      <td>0.3691</td>\n",
       "      <td>0.1414</td>\n",
       "      <td>0.0495</td>\n",
       "      <td>0.0539</td>\n",
       "      <td>0.0159</td>\n",
       "      <td>0.63</td>\n",
       "      <td>Rectangle</td>\n",
       "      <td>Nuôi 1</td>\n",
       "      <td>NaN</td>\n",
       "      <td>1785.0</td>\n",
       "      <td>Vietuc</td>\n",
       "      <td>NaN</td>\n",
       "      <td>74.00</td>\n",
       "      <td>NaN</td>\n",
       "      <td>60.0</td>\n",
       "      <td>0.0</td>\n",
       "    </tr>\n",
       "  </tbody>\n",
       "</table>\n",
       "</div>"
      ],
      "text/plain": [
       "        Date Season    Vụ nuôi module_name    ao  Ngày thả  Time  Nhiệt độ  \\\n",
       "0  21/6/2022  Rainy  Vụ 1-2022          A1  D3N6        69     8     29.53   \n",
       "1  20/6/2022  Rainy  Vụ 1-2022          A1  D3N6        68     8     29.65   \n",
       "2  19/6/2022  Rainy  Vụ 1-2022          A1  D3N6        67     8     29.51   \n",
       "3  18/6/2022  Rainy  Vụ 1-2022          A1  D3N6        66     8     30.51   \n",
       "4  17/6/2022  Rainy  Vụ 1-2022          A1  D3N6        65     8     30.18   \n",
       "\n",
       "     pH  Độ mặn    TDS  Độ đục    DO  Độ màu  Độ trong  Độ kiềm  Độ cứng  \\\n",
       "0  7.33   21.53  21.77   39.48  4.54   273.0      19.0    130.0   3500.0   \n",
       "1  7.40   21.34  21.77   38.12  5.02   435.0      19.0    119.0   3500.0   \n",
       "2  7.44   21.18  21.63   37.85  5.16   440.0      19.0    118.0   4000.0   \n",
       "3  7.50   21.54  21.95   29.13  5.21   468.0      19.0    115.0   4000.0   \n",
       "4  7.51   21.55  21.96   25.62  5.07   438.0      20.0    112.0   3500.0   \n",
       "\n",
       "   Amoni  Nitrat  Nitrit  Phosphate (PO43-)  Silica   Canxi    Kali    Magie  \\\n",
       "0  16.00     4.4    0.73                7.6    1.84  488.50  370.50   788.00   \n",
       "1   9.15     0.0    0.60                2.7    1.84  328.50  285.50  1017.25   \n",
       "2   8.36     0.0    0.51                5.1    2.28  508.75  371.50   901.00   \n",
       "3   7.36     0.0    0.30                1.2    2.96  454.50  353.50   690.00   \n",
       "4   8.80     1.0    0.45                8.4    9.10  458.75  329.75   806.00   \n",
       "\n",
       "   Nhiệt độ.1  pH.1  Độ mặn.1  TDS.1  Độ đục.1  DO.1  Độ màu.1  Độ trong.1  \\\n",
       "0         1.0   1.0       1.0   0.75      0.90  0.23      0.83        0.08   \n",
       "1         1.0   1.0       1.0   0.75      0.90  0.34      0.73        0.08   \n",
       "2         1.0   1.0       1.0   0.75      0.90  0.37      0.72        0.08   \n",
       "3         1.0   1.0       1.0   0.75      0.93  0.38      0.71        0.08   \n",
       "4         1.0   1.0       1.0   0.75      0.94  0.35      0.73        0.10   \n",
       "\n",
       "   Độ kiềm.1  Độ cứng.1  Amoni.1  Nitrat.1  Nitrit.1  Phosphate (PO43-).1  \\\n",
       "0       0.26       0.11     0.37      0.94      0.99                 0.03   \n",
       "1       0.22       0.11     0.64      1.00      0.99                 0.21   \n",
       "2       0.22       0.21     0.67      1.00      0.99                 0.05   \n",
       "3       0.21       0.21     0.71      1.00      0.99                 0.09   \n",
       "4       0.20       0.11     0.65      0.99      0.99                 0.05   \n",
       "\n",
       "   Silica.1  Canxi.1  Kali.1  Magie.1      F1      F2      F3      F4      F5  \\\n",
       "0      0.94     0.60    0.38     0.37  0.3708  0.1547  0.0538  0.0525  0.0090   \n",
       "1      0.94     0.33    0.25     0.49  0.3726  0.1549  0.0423  0.0526  0.0192   \n",
       "2      0.93     0.64    0.38     0.43  0.3822  0.1554  0.0576  0.0526  0.0164   \n",
       "3      0.90     0.54    0.36     0.31  0.3812  0.1538  0.0483  0.0532  0.0182   \n",
       "4      0.67     0.55    0.32     0.38  0.3691  0.1414  0.0495  0.0539  0.0159   \n",
       "\n",
       "    WQI    Loại ao Công nghệ nuôi  Giai doan    area Giống tôm  Số lượng post  \\\n",
       "0  0.64  Rectangle         Nuôi 1        NaN  1785.0    Vietuc       321750.0   \n",
       "1  0.64  Rectangle         Nuôi 1        NaN  1785.0    Vietuc            NaN   \n",
       "2  0.66  Rectangle         Nuôi 1        NaN  1785.0    Vietuc            NaN   \n",
       "3  0.65  Rectangle         Nuôi 1        NaN  1785.0    Vietuc            NaN   \n",
       "4  0.63  Rectangle         Nuôi 1        NaN  1785.0    Vietuc            NaN   \n",
       "\n",
       "  Tuổi tôm Con/Kg  Mực nước  Thay nước (cm)  \n",
       "0    78.00  55.00      75.0             0.0  \n",
       "1    79.00    NaN      60.0             0.0  \n",
       "2    76.00    NaN      61.0             0.0  \n",
       "3    77.00    NaN      61.0            10.0  \n",
       "4    74.00    NaN      60.0             0.0  "
      ]
     },
     "execution_count": 254,
     "metadata": {},
     "output_type": "execute_result"
    }
   ],
   "source": [
    "df.head()"
   ]
  },
  {
   "cell_type": "code",
   "execution_count": 255,
   "id": "0ac4a515",
   "metadata": {},
   "outputs": [],
   "source": [
    "# df.info()"
   ]
  },
  {
   "cell_type": "code",
   "execution_count": 256,
   "id": "8ea0fe75",
   "metadata": {},
   "outputs": [],
   "source": [
    "# df.describe()"
   ]
  },
  {
   "cell_type": "code",
   "execution_count": 257,
   "id": "bec1a699",
   "metadata": {},
   "outputs": [
    {
     "data": {
      "text/plain": [
       "Index(['Date', 'Season', 'Vụ nuôi', 'module_name', 'ao', 'Ngày thả', 'Time',\n",
       "       'Nhiệt độ', 'pH', 'Độ mặn', 'TDS', 'Độ đục', 'DO', 'Độ màu', 'Độ trong',\n",
       "       'Độ kiềm', 'Độ cứng', 'Amoni', 'Nitrat', 'Nitrit', 'Phosphate (PO43-)',\n",
       "       'Silica', 'Canxi', 'Kali', 'Magie', 'Nhiệt độ.1', 'pH.1', 'Độ mặn.1',\n",
       "       'TDS.1', 'Độ đục.1', 'DO.1', 'Độ màu.1', 'Độ trong.1', 'Độ kiềm.1',\n",
       "       'Độ cứng.1', 'Amoni.1', 'Nitrat.1', 'Nitrit.1', 'Phosphate (PO43-).1',\n",
       "       'Silica.1', 'Canxi.1', 'Kali.1', 'Magie.1', 'F1', 'F2', 'F3', 'F4',\n",
       "       'F5', 'WQI', 'Loại ao', 'Công nghệ nuôi', 'Giai doan', 'area',\n",
       "       'Giống tôm', 'Số lượng post', 'Tuổi tôm', 'Con/Kg', 'Mực nước',\n",
       "       'Thay nước (cm)'],\n",
       "      dtype='object')"
      ]
     },
     "execution_count": 257,
     "metadata": {},
     "output_type": "execute_result"
    }
   ],
   "source": [
    "df.columns"
   ]
  },
  {
   "cell_type": "code",
   "execution_count": null,
   "id": "d9a07925",
   "metadata": {},
   "outputs": [],
   "source": []
  },
  {
   "cell_type": "code",
   "execution_count": 258,
   "id": "89fdde2b",
   "metadata": {},
   "outputs": [],
   "source": [
    "columns = ['Date', 'Season', 'Vụ nuôi', 'module_name', 'ao', \n",
    "           'Ngày thả', 'Time','Nhiệt độ', 'pH', 'Độ mặn', \n",
    "           'TDS', 'Độ đục', 'DO', 'Độ màu', 'Độ trong','Độ kiềm', \n",
    "           'Độ cứng','Loại ao', 'Công nghệ nuôi', 'area', \n",
    "           'Giống tôm', 'Tuổi tôm', 'Mực nước', 'Amoni', \n",
    "           'Nitrat', 'Nitrit', 'Silica', 'Canxi', 'Kali', 'Magie']\n",
    "df = df[columns]"
   ]
  },
  {
   "cell_type": "code",
   "execution_count": 68,
   "id": "893bcefa",
   "metadata": {},
   "outputs": [
    {
     "data": {
      "text/plain": [
       "Index(['Date', 'Season', 'Vụ nuôi', 'module_name', 'ao', 'Ngày thả', 'Time',\n",
       "       'Nhiệt độ', 'pH', 'Độ mặn', 'TDS', 'Độ đục', 'DO', 'Độ màu', 'Độ trong',\n",
       "       'Độ kiềm', 'Độ cứng', 'Loại ao', 'Công nghệ nuôi', 'area', 'Giống tôm',\n",
       "       'Tuổi tôm', 'Mực nước', 'TAN', 'Nitrat', 'Nitrit', 'Silica', 'Canxi',\n",
       "       'Kali', 'Magie'],\n",
       "      dtype='object')"
      ]
     },
     "execution_count": 68,
     "metadata": {},
     "output_type": "execute_result"
    }
   ],
   "source": [
    "df.columns"
   ]
  },
  {
   "cell_type": "code",
   "execution_count": 259,
   "id": "9ccb6693",
   "metadata": {},
   "outputs": [],
   "source": [
    "df.rename({'Amoni':'TAN'},axis=1,inplace=True)"
   ]
  },
  {
   "cell_type": "code",
   "execution_count": 260,
   "id": "3a97dbc4",
   "metadata": {},
   "outputs": [],
   "source": [
    "# df.isna().sum()"
   ]
  },
  {
   "cell_type": "code",
   "execution_count": 261,
   "id": "5c6ec5e9",
   "metadata": {},
   "outputs": [],
   "source": [
    "# Cột 'Mực nước', thay các ô có giá trị = 0 thành NaN\n",
    "# Thay các giá trị NaN bằng median của cột\n",
    "df.loc[df['Mực nước']==0,'Mực nước']=np.NaN\n",
    "df['Mực nước'].fillna(df['Mực nước'].median(),\n",
    "                      inplace=True)"
   ]
  },
  {
   "cell_type": "code",
   "execution_count": 263,
   "id": "4aee3311",
   "metadata": {},
   "outputs": [
    {
     "data": {
      "text/plain": [
       "0"
      ]
     },
     "execution_count": 263,
     "metadata": {},
     "output_type": "execute_result"
    }
   ],
   "source": [
    "df.isna().sum().sum()"
   ]
  },
  {
   "cell_type": "code",
   "execution_count": 266,
   "id": "562d2866",
   "metadata": {},
   "outputs": [],
   "source": [
    "df['units'] = df.apply(lambda x:  f\"{x['Vụ nuôi'].replace(' ','')}-{x['module_name']}-{x['ao']}\" ,axis=1)\n"
   ]
  },
  {
   "cell_type": "code",
   "execution_count": 268,
   "id": "7ca4dc7b",
   "metadata": {},
   "outputs": [],
   "source": []
  },
  {
   "cell_type": "code",
   "execution_count": 269,
   "id": "51098f1c",
   "metadata": {},
   "outputs": [],
   "source": [
    "df['Date'] = pd.to_datetime(df['Date'],format='%d/%m/%Y')"
   ]
  },
  {
   "cell_type": "code",
   "execution_count": 270,
   "id": "2b8528c9",
   "metadata": {},
   "outputs": [],
   "source": [
    "df.sort_values(['units','Date'],inplace=True)"
   ]
  },
  {
   "cell_type": "code",
   "execution_count": 289,
   "id": "186a97ae",
   "metadata": {},
   "outputs": [],
   "source": [
    "# df.head()"
   ]
  },
  {
   "cell_type": "code",
   "execution_count": 272,
   "id": "6732551b",
   "metadata": {},
   "outputs": [],
   "source": [
    "unit_l = list(df['units'].unique())"
   ]
  },
  {
   "cell_type": "code",
   "execution_count": 274,
   "id": "3bd0e17c",
   "metadata": {},
   "outputs": [],
   "source": [
    "# df"
   ]
  },
  {
   "cell_type": "code",
   "execution_count": 275,
   "id": "2efc8cab",
   "metadata": {},
   "outputs": [],
   "source": [
    "# lastday columns\n",
    "# Tạo thêm cột lastday-column chứa dữ liệu của ngày hôm trước\n",
    "# trong mỗi hàng, khởi tạo các cột với giá trị NaN\n",
    "#\n",
    "\n",
    "output_column = ['TAN', 'Nitrat', 'Nitrit', 'Silica', 'Canxi', 'Kali', 'Magie']\n",
    "ld_column = [f\"ld_{col}\" for col in output_column]\n",
    "df[ld_column] = np.NaN\n",
    "\n",
    "# Copy data của ngày hôm trước cho mỗi row\n",
    "for unit in unit_l:\n",
    "    df.loc[df['units']==unit,ld_column] = df.loc[df['units']==unit,output_column].shift(1).to_numpy(copy=True)"
   ]
  },
  {
   "cell_type": "code",
   "execution_count": 277,
   "id": "cf5ae56e",
   "metadata": {},
   "outputs": [],
   "source": []
  },
  {
   "cell_type": "code",
   "execution_count": 165,
   "id": "b2d3b050",
   "metadata": {},
   "outputs": [],
   "source": [
    "# df[df['units']==unit_l[0]][output_column].shift(1)"
   ]
  },
  {
   "cell_type": "code",
   "execution_count": 191,
   "id": "470426e6",
   "metadata": {},
   "outputs": [],
   "source": [
    "# unit=unit_l[0]\n",
    "# df.loc[df['units']==unit,ld_column] = df.loc[df['units']==unit,output_column].shift(1).to_numpy(copy=True)"
   ]
  },
  {
   "cell_type": "code",
   "execution_count": 278,
   "id": "66b6c434",
   "metadata": {},
   "outputs": [],
   "source": []
  },
  {
   "cell_type": "code",
   "execution_count": 279,
   "id": "3f5dd583",
   "metadata": {},
   "outputs": [],
   "source": [
    "# df.loc[df['units']==unit,ld_column] = df.loc[df['units']==unit,output_column].shift(1).to_numpy(copy=True)"
   ]
  },
  {
   "cell_type": "code",
   "execution_count": 280,
   "id": "025f2d8e",
   "metadata": {
    "scrolled": false
   },
   "outputs": [],
   "source": [
    "# df[300:330]"
   ]
  },
  {
   "cell_type": "code",
   "execution_count": 281,
   "id": "b8d68b3e",
   "metadata": {},
   "outputs": [],
   "source": [
    "input_col = ['Season', 'Ngày thả', 'Time','Nhiệt độ', 'pH', 'Độ mặn', \n",
    "           'TDS', 'Độ đục', 'DO', 'Độ màu', 'Độ trong','Độ kiềm', \n",
    "           'Độ cứng','Loại ao', 'Công nghệ nuôi', 'area', \n",
    "           'Giống tôm', 'Tuổi tôm', 'Mực nước']\n",
    "df = df[input_col+ld_column+output_column].copy()"
   ]
  },
  {
   "cell_type": "code",
   "execution_count": 282,
   "id": "20dca1c4",
   "metadata": {},
   "outputs": [],
   "source": [
    "df['Tuổi tôm'] = df['Tuổi tôm'].apply(lambda x: \n",
    "                                      int(float(x)) if x.replace('.','',1).isnumeric() \n",
    "                                      else np.NaN)"
   ]
  },
  {
   "cell_type": "code",
   "execution_count": 284,
   "id": "7bdd4a7c",
   "metadata": {},
   "outputs": [],
   "source": [
    "# df.isna().sum()"
   ]
  },
  {
   "cell_type": "code",
   "execution_count": 285,
   "id": "522d76e9",
   "metadata": {},
   "outputs": [],
   "source": [
    "df.dropna(axis=0,inplace=True)"
   ]
  },
  {
   "cell_type": "code",
   "execution_count": 286,
   "id": "5637a28e",
   "metadata": {},
   "outputs": [],
   "source": [
    "df.drop(['Time'], axis=1,inplace=True)"
   ]
  },
  {
   "cell_type": "code",
   "execution_count": 287,
   "id": "b78690e4",
   "metadata": {},
   "outputs": [],
   "source": [
    "# df['Tuổi tôm'].astype(np.float32).astype(np.int32)"
   ]
  },
  {
   "cell_type": "code",
   "execution_count": 288,
   "id": "97878b44",
   "metadata": {},
   "outputs": [],
   "source": [
    "df.reset_index(drop=True,inplace=True)"
   ]
  },
  {
   "cell_type": "code",
   "execution_count": 222,
   "id": "9d1f557b",
   "metadata": {},
   "outputs": [],
   "source": [
    "from sklearn.preprocessing import OneHotEncoder"
   ]
  },
  {
   "cell_type": "code",
   "execution_count": 223,
   "id": "67854dcb",
   "metadata": {},
   "outputs": [
    {
     "name": "stdout",
     "output_type": "stream",
     "text": [
      "<class 'pandas.core.frame.DataFrame'>\n",
      "RangeIndex: 1161 entries, 0 to 1160\n",
      "Data columns (total 32 columns):\n",
      " #   Column          Non-Null Count  Dtype  \n",
      "---  ------          --------------  -----  \n",
      " 0   Season          1161 non-null   object \n",
      " 1   Ngày thả        1161 non-null   int64  \n",
      " 2   Nhiệt độ        1161 non-null   float64\n",
      " 3   pH              1161 non-null   float64\n",
      " 4   Độ mặn          1161 non-null   float64\n",
      " 5   TDS             1161 non-null   float64\n",
      " 6   Độ đục          1161 non-null   float64\n",
      " 7   DO              1161 non-null   float64\n",
      " 8   Độ màu          1161 non-null   float64\n",
      " 9   Độ trong        1161 non-null   float64\n",
      " 10  Độ kiềm         1161 non-null   float64\n",
      " 11  Độ cứng         1161 non-null   float64\n",
      " 12  Loại ao         1161 non-null   object \n",
      " 13  Công nghệ nuôi  1161 non-null   object \n",
      " 14  area            1161 non-null   float64\n",
      " 15  Giống tôm       1161 non-null   object \n",
      " 16  Tuổi tôm        1161 non-null   object \n",
      " 17  Mực nước        1161 non-null   float64\n",
      " 18  ld_TAN          1161 non-null   float64\n",
      " 19  ld_Nitrat       1161 non-null   float64\n",
      " 20  ld_Nitrit       1161 non-null   float64\n",
      " 21  ld_Silica       1161 non-null   float64\n",
      " 22  ld_Canxi        1161 non-null   float64\n",
      " 23  ld_Kali         1161 non-null   float64\n",
      " 24  ld_Magie        1161 non-null   float64\n",
      " 25  TAN             1161 non-null   float64\n",
      " 26  Nitrat          1161 non-null   float64\n",
      " 27  Nitrit          1161 non-null   float64\n",
      " 28  Silica          1161 non-null   float64\n",
      " 29  Canxi           1161 non-null   float64\n",
      " 30  Kali            1161 non-null   float64\n",
      " 31  Magie           1161 non-null   float64\n",
      "dtypes: float64(26), int64(1), object(5)\n",
      "memory usage: 290.4+ KB\n"
     ]
    }
   ],
   "source": [
    "df.info()"
   ]
  },
  {
   "cell_type": "code",
   "execution_count": 231,
   "id": "b18d0e7c",
   "metadata": {},
   "outputs": [
    {
     "data": {
      "text/plain": [
       "'11.00'"
      ]
     },
     "execution_count": 231,
     "metadata": {},
     "output_type": "execute_result"
    }
   ],
   "source": [
    "df['Tuổi tôm'].loc[0]"
   ]
  },
  {
   "cell_type": "code",
   "execution_count": 225,
   "id": "5b2fbbdd",
   "metadata": {},
   "outputs": [
    {
     "ename": "ValueError",
     "evalue": "Expected 2D array, got 1D array instead:\narray=['Dry' 'Dry' 'Dry' ... 'Dry' 'Dry' 'Dry'].\nReshape your data either using array.reshape(-1, 1) if your data has a single feature or array.reshape(1, -1) if it contains a single sample.",
     "output_type": "error",
     "traceback": [
      "\u001b[1;31m---------------------------------------------------------------------------\u001b[0m",
      "\u001b[1;31mValueError\u001b[0m                                Traceback (most recent call last)",
      "Cell \u001b[1;32mIn[225], line 2\u001b[0m\n\u001b[0;32m      1\u001b[0m oh_enc_sea \u001b[38;5;241m=\u001b[39m OneHotEncoder()\n\u001b[1;32m----> 2\u001b[0m oh_enc_sea\u001b[38;5;241m.\u001b[39mfit(df[\u001b[38;5;124m'\u001b[39m\u001b[38;5;124mSeason\u001b[39m\u001b[38;5;124m'\u001b[39m])\n",
      "File \u001b[1;32m~\\AppData\\Local\\anaconda3\\Lib\\site-packages\\sklearn\\base.py:1151\u001b[0m, in \u001b[0;36m_fit_context.<locals>.decorator.<locals>.wrapper\u001b[1;34m(estimator, *args, **kwargs)\u001b[0m\n\u001b[0;32m   1144\u001b[0m     estimator\u001b[38;5;241m.\u001b[39m_validate_params()\n\u001b[0;32m   1146\u001b[0m \u001b[38;5;28;01mwith\u001b[39;00m config_context(\n\u001b[0;32m   1147\u001b[0m     skip_parameter_validation\u001b[38;5;241m=\u001b[39m(\n\u001b[0;32m   1148\u001b[0m         prefer_skip_nested_validation \u001b[38;5;129;01mor\u001b[39;00m global_skip_validation\n\u001b[0;32m   1149\u001b[0m     )\n\u001b[0;32m   1150\u001b[0m ):\n\u001b[1;32m-> 1151\u001b[0m     \u001b[38;5;28;01mreturn\u001b[39;00m fit_method(estimator, \u001b[38;5;241m*\u001b[39margs, \u001b[38;5;241m*\u001b[39m\u001b[38;5;241m*\u001b[39mkwargs)\n",
      "File \u001b[1;32m~\\AppData\\Local\\anaconda3\\Lib\\site-packages\\sklearn\\preprocessing\\_encoders.py:982\u001b[0m, in \u001b[0;36mOneHotEncoder.fit\u001b[1;34m(self, X, y)\u001b[0m\n\u001b[0;32m    972\u001b[0m     warnings\u001b[38;5;241m.\u001b[39mwarn(\n\u001b[0;32m    973\u001b[0m         (\n\u001b[0;32m    974\u001b[0m             \u001b[38;5;124m\"\u001b[39m\u001b[38;5;124m`sparse` was renamed to `sparse_output` in version 1.2 and \u001b[39m\u001b[38;5;124m\"\u001b[39m\n\u001b[1;32m   (...)\u001b[0m\n\u001b[0;32m    978\u001b[0m         \u001b[38;5;167;01mFutureWarning\u001b[39;00m,\n\u001b[0;32m    979\u001b[0m     )\n\u001b[0;32m    980\u001b[0m     \u001b[38;5;28mself\u001b[39m\u001b[38;5;241m.\u001b[39msparse_output \u001b[38;5;241m=\u001b[39m \u001b[38;5;28mself\u001b[39m\u001b[38;5;241m.\u001b[39msparse\n\u001b[1;32m--> 982\u001b[0m \u001b[38;5;28mself\u001b[39m\u001b[38;5;241m.\u001b[39m_fit(\n\u001b[0;32m    983\u001b[0m     X,\n\u001b[0;32m    984\u001b[0m     handle_unknown\u001b[38;5;241m=\u001b[39m\u001b[38;5;28mself\u001b[39m\u001b[38;5;241m.\u001b[39mhandle_unknown,\n\u001b[0;32m    985\u001b[0m     force_all_finite\u001b[38;5;241m=\u001b[39m\u001b[38;5;124m\"\u001b[39m\u001b[38;5;124mallow-nan\u001b[39m\u001b[38;5;124m\"\u001b[39m,\n\u001b[0;32m    986\u001b[0m )\n\u001b[0;32m    987\u001b[0m \u001b[38;5;28mself\u001b[39m\u001b[38;5;241m.\u001b[39m_set_drop_idx()\n\u001b[0;32m    988\u001b[0m \u001b[38;5;28mself\u001b[39m\u001b[38;5;241m.\u001b[39m_n_features_outs \u001b[38;5;241m=\u001b[39m \u001b[38;5;28mself\u001b[39m\u001b[38;5;241m.\u001b[39m_compute_n_features_outs()\n",
      "File \u001b[1;32m~\\AppData\\Local\\anaconda3\\Lib\\site-packages\\sklearn\\preprocessing\\_encoders.py:77\u001b[0m, in \u001b[0;36m_BaseEncoder._fit\u001b[1;34m(self, X, handle_unknown, force_all_finite, return_counts, return_and_ignore_missing_for_infrequent)\u001b[0m\n\u001b[0;32m     75\u001b[0m \u001b[38;5;28mself\u001b[39m\u001b[38;5;241m.\u001b[39m_check_n_features(X, reset\u001b[38;5;241m=\u001b[39m\u001b[38;5;28;01mTrue\u001b[39;00m)\n\u001b[0;32m     76\u001b[0m \u001b[38;5;28mself\u001b[39m\u001b[38;5;241m.\u001b[39m_check_feature_names(X, reset\u001b[38;5;241m=\u001b[39m\u001b[38;5;28;01mTrue\u001b[39;00m)\n\u001b[1;32m---> 77\u001b[0m X_list, n_samples, n_features \u001b[38;5;241m=\u001b[39m \u001b[38;5;28mself\u001b[39m\u001b[38;5;241m.\u001b[39m_check_X(\n\u001b[0;32m     78\u001b[0m     X, force_all_finite\u001b[38;5;241m=\u001b[39mforce_all_finite\n\u001b[0;32m     79\u001b[0m )\n\u001b[0;32m     80\u001b[0m \u001b[38;5;28mself\u001b[39m\u001b[38;5;241m.\u001b[39mn_features_in_ \u001b[38;5;241m=\u001b[39m n_features\n\u001b[0;32m     82\u001b[0m \u001b[38;5;28;01mif\u001b[39;00m \u001b[38;5;28mself\u001b[39m\u001b[38;5;241m.\u001b[39mcategories \u001b[38;5;241m!=\u001b[39m \u001b[38;5;124m\"\u001b[39m\u001b[38;5;124mauto\u001b[39m\u001b[38;5;124m\"\u001b[39m:\n",
      "File \u001b[1;32m~\\AppData\\Local\\anaconda3\\Lib\\site-packages\\sklearn\\preprocessing\\_encoders.py:43\u001b[0m, in \u001b[0;36m_BaseEncoder._check_X\u001b[1;34m(self, X, force_all_finite)\u001b[0m\n\u001b[0;32m     30\u001b[0m \u001b[38;5;250m\u001b[39m\u001b[38;5;124;03m\"\"\"\u001b[39;00m\n\u001b[0;32m     31\u001b[0m \u001b[38;5;124;03mPerform custom check_array:\u001b[39;00m\n\u001b[0;32m     32\u001b[0m \u001b[38;5;124;03m- convert list of strings to object dtype\u001b[39;00m\n\u001b[1;32m   (...)\u001b[0m\n\u001b[0;32m     39\u001b[0m \n\u001b[0;32m     40\u001b[0m \u001b[38;5;124;03m\"\"\"\u001b[39;00m\n\u001b[0;32m     41\u001b[0m \u001b[38;5;28;01mif\u001b[39;00m \u001b[38;5;129;01mnot\u001b[39;00m (\u001b[38;5;28mhasattr\u001b[39m(X, \u001b[38;5;124m\"\u001b[39m\u001b[38;5;124miloc\u001b[39m\u001b[38;5;124m\"\u001b[39m) \u001b[38;5;129;01mand\u001b[39;00m \u001b[38;5;28mgetattr\u001b[39m(X, \u001b[38;5;124m\"\u001b[39m\u001b[38;5;124mndim\u001b[39m\u001b[38;5;124m\"\u001b[39m, \u001b[38;5;241m0\u001b[39m) \u001b[38;5;241m==\u001b[39m \u001b[38;5;241m2\u001b[39m):\n\u001b[0;32m     42\u001b[0m     \u001b[38;5;66;03m# if not a dataframe, do normal check_array validation\u001b[39;00m\n\u001b[1;32m---> 43\u001b[0m     X_temp \u001b[38;5;241m=\u001b[39m check_array(X, dtype\u001b[38;5;241m=\u001b[39m\u001b[38;5;28;01mNone\u001b[39;00m, force_all_finite\u001b[38;5;241m=\u001b[39mforce_all_finite)\n\u001b[0;32m     44\u001b[0m     \u001b[38;5;28;01mif\u001b[39;00m \u001b[38;5;129;01mnot\u001b[39;00m \u001b[38;5;28mhasattr\u001b[39m(X, \u001b[38;5;124m\"\u001b[39m\u001b[38;5;124mdtype\u001b[39m\u001b[38;5;124m\"\u001b[39m) \u001b[38;5;129;01mand\u001b[39;00m np\u001b[38;5;241m.\u001b[39missubdtype(X_temp\u001b[38;5;241m.\u001b[39mdtype, np\u001b[38;5;241m.\u001b[39mstr_):\n\u001b[0;32m     45\u001b[0m         X \u001b[38;5;241m=\u001b[39m check_array(X, dtype\u001b[38;5;241m=\u001b[39m\u001b[38;5;28mobject\u001b[39m, force_all_finite\u001b[38;5;241m=\u001b[39mforce_all_finite)\n",
      "File \u001b[1;32m~\\AppData\\Local\\anaconda3\\Lib\\site-packages\\sklearn\\utils\\validation.py:940\u001b[0m, in \u001b[0;36mcheck_array\u001b[1;34m(array, accept_sparse, accept_large_sparse, dtype, order, copy, force_all_finite, ensure_2d, allow_nd, ensure_min_samples, ensure_min_features, estimator, input_name)\u001b[0m\n\u001b[0;32m    938\u001b[0m     \u001b[38;5;66;03m# If input is 1D raise error\u001b[39;00m\n\u001b[0;32m    939\u001b[0m     \u001b[38;5;28;01mif\u001b[39;00m array\u001b[38;5;241m.\u001b[39mndim \u001b[38;5;241m==\u001b[39m \u001b[38;5;241m1\u001b[39m:\n\u001b[1;32m--> 940\u001b[0m         \u001b[38;5;28;01mraise\u001b[39;00m \u001b[38;5;167;01mValueError\u001b[39;00m(\n\u001b[0;32m    941\u001b[0m             \u001b[38;5;124m\"\u001b[39m\u001b[38;5;124mExpected 2D array, got 1D array instead:\u001b[39m\u001b[38;5;130;01m\\n\u001b[39;00m\u001b[38;5;124marray=\u001b[39m\u001b[38;5;132;01m{}\u001b[39;00m\u001b[38;5;124m.\u001b[39m\u001b[38;5;130;01m\\n\u001b[39;00m\u001b[38;5;124m\"\u001b[39m\n\u001b[0;32m    942\u001b[0m             \u001b[38;5;124m\"\u001b[39m\u001b[38;5;124mReshape your data either using array.reshape(-1, 1) if \u001b[39m\u001b[38;5;124m\"\u001b[39m\n\u001b[0;32m    943\u001b[0m             \u001b[38;5;124m\"\u001b[39m\u001b[38;5;124myour data has a single feature or array.reshape(1, -1) \u001b[39m\u001b[38;5;124m\"\u001b[39m\n\u001b[0;32m    944\u001b[0m             \u001b[38;5;124m\"\u001b[39m\u001b[38;5;124mif it contains a single sample.\u001b[39m\u001b[38;5;124m\"\u001b[39m\u001b[38;5;241m.\u001b[39mformat(array)\n\u001b[0;32m    945\u001b[0m         )\n\u001b[0;32m    947\u001b[0m \u001b[38;5;28;01mif\u001b[39;00m dtype_numeric \u001b[38;5;129;01mand\u001b[39;00m \u001b[38;5;28mhasattr\u001b[39m(array\u001b[38;5;241m.\u001b[39mdtype, \u001b[38;5;124m\"\u001b[39m\u001b[38;5;124mkind\u001b[39m\u001b[38;5;124m\"\u001b[39m) \u001b[38;5;129;01mand\u001b[39;00m array\u001b[38;5;241m.\u001b[39mdtype\u001b[38;5;241m.\u001b[39mkind \u001b[38;5;129;01min\u001b[39;00m \u001b[38;5;124m\"\u001b[39m\u001b[38;5;124mUSV\u001b[39m\u001b[38;5;124m\"\u001b[39m:\n\u001b[0;32m    948\u001b[0m     \u001b[38;5;28;01mraise\u001b[39;00m \u001b[38;5;167;01mValueError\u001b[39;00m(\n\u001b[0;32m    949\u001b[0m         \u001b[38;5;124m\"\u001b[39m\u001b[38;5;124mdtype=\u001b[39m\u001b[38;5;124m'\u001b[39m\u001b[38;5;124mnumeric\u001b[39m\u001b[38;5;124m'\u001b[39m\u001b[38;5;124m is not compatible with arrays of bytes/strings.\u001b[39m\u001b[38;5;124m\"\u001b[39m\n\u001b[0;32m    950\u001b[0m         \u001b[38;5;124m\"\u001b[39m\u001b[38;5;124mConvert your data to numeric values explicitly instead.\u001b[39m\u001b[38;5;124m\"\u001b[39m\n\u001b[0;32m    951\u001b[0m     )\n",
      "\u001b[1;31mValueError\u001b[0m: Expected 2D array, got 1D array instead:\narray=['Dry' 'Dry' 'Dry' ... 'Dry' 'Dry' 'Dry'].\nReshape your data either using array.reshape(-1, 1) if your data has a single feature or array.reshape(1, -1) if it contains a single sample."
     ]
    }
   ],
   "source": [
    "categorical_col = ['Season', 'Loại ao', 'Công nghệ nuôi', 'Giống tôm']\n",
    "oh_enc = OneHotEncoder()\n",
    "oh_enc.fit(df[['Season',]])"
   ]
  },
  {
   "cell_type": "code",
   "execution_count": null,
   "id": "362d1002",
   "metadata": {},
   "outputs": [],
   "source": []
  }
 ],
 "metadata": {
  "kernelspec": {
   "display_name": "Python 3 (ipykernel)",
   "language": "python",
   "name": "python3"
  },
  "language_info": {
   "codemirror_mode": {
    "name": "ipython",
    "version": 3
   },
   "file_extension": ".py",
   "mimetype": "text/x-python",
   "name": "python",
   "nbconvert_exporter": "python",
   "pygments_lexer": "ipython3",
   "version": "3.11.5"
  }
 },
 "nbformat": 4,
 "nbformat_minor": 5
}
